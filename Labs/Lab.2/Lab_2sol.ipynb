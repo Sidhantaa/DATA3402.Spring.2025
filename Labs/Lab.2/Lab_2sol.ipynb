{
 "cells": [
  {
   "cell_type": "markdown",
   "metadata": {},
   "source": [
    "## Lab 2- Tic Tac Toe\n",
    "\n",
    "In this lab your will build a n x n Tic Tac Toe game. As you do the exercises, make sure your solutions work for any size Tic Tac Toe game. "
   ]
  },
  {
   "cell_type": "markdown",
   "metadata": {},
   "source": [
    "*Exercise 1:* Write a function that creates an n by n matrix (of list of lists) which will represent the state of a Tie Tac Toe game. Let 0, 1, and 2 represent empty, \"X\", and \"O\", respectively.\n"
   ]
  },
  {
   "cell_type": "code",
   "execution_count": 88,
   "metadata": {},
   "outputs": [],
   "source": [
    "# Exercise 1: Create an n x n board.\n",
    "def create_board(n):\n",
    "    \"\"\"\n",
    "    Creates an n x n Tic Tac Toe board initialized with 0's.\n",
    "    0 -> empty, 1 -> \"X\", 2 -> \"O\"\n",
    "    \"\"\"\n",
    "    return [[0 for _ in range(n)] for _ in range(n)]"
   ]
  },
  {
   "cell_type": "markdown",
   "metadata": {},
   "source": [
    "*Exercise 2:* Write a function that takes 2 integers `n` and `m` as input and draws a `n` by `m` game board. For example the following is a 3x3 board:\n",
    "```\n",
    "   --- --- --- \n",
    "  |   |   |   | \n",
    "   --- --- ---  \n",
    "  |   |   |   | \n",
    "   --- --- ---  \n",
    "  |   |   |   | \n",
    "   --- --- --- \n",
    "   ```"
   ]
  },
  {
   "cell_type": "code",
   "execution_count": 90,
   "metadata": {},
   "outputs": [
    {
     "name": "stdout",
     "output_type": "stream",
     "text": [
      "[0, 0, 0]\n",
      "[0, 0, 0]\n",
      "[0, 0, 0]\n",
      "    --- --- ---\n",
      "  |   |   |   |\n",
      "    --- --- ---\n",
      "  |   |   |   |\n",
      "    --- --- ---\n",
      "  |   |   |   |\n",
      "    --- --- ---\n"
     ]
    }
   ],
   "source": [
    "def create_tic_tac_toe_board(n):\n",
    "    \"\"\"\n",
    "    Creates an n x n Tic Tac Toe board initialized with 0s.\n",
    "    \n",
    "    Parameters:\n",
    "        n (int): The size of the board.\n",
    "    \n",
    "    Returns:\n",
    "        list: A 2D list representing the Tic Tac Toe board.\n",
    "    \"\"\"\n",
    "    return [[0 for _ in range(n)] for _ in range(n)]\n",
    "\n",
    "def draw_game_board(n, m):\n",
    "    \"\"\"\n",
    "    Draws an n x m game board with grid lines.\n",
    "    \n",
    "    Parameters:\n",
    "        n (int): Number of rows.\n",
    "        m (int): Number of columns.\n",
    "    \"\"\"\n",
    "    for i in range(n):\n",
    "        print(\"   \" + \" ---\" * m)\n",
    "        print(\"  |\" + \"   |\" * m)\n",
    "    print(\"   \" + \" ---\" * m)\n",
    "\n",
    "# Example usage:\n",
    "n = 3\n",
    "board = create_tic_tac_toe_board(n)\n",
    "for row in board:\n",
    "    print(row)\n",
    "\n",
    "draw_game_board(3, 3)\n"
   ]
  },
  {
   "cell_type": "markdown",
   "metadata": {},
   "source": [
    "*Exercise 3:* Modify exercise 2, so that it takes a matrix of the form from exercise 1 and draws a tic-tac-tie board with \"X\"s and \"O\"s.  "
   ]
  },
  {
   "cell_type": "markdown",
   "metadata": {},
   "source": [
    "*Exercise 4:* Write a function that takes a `n` by `n` matrix representing a tic-tac-toe game, and returns -1, 0, 1, or 2 indicating the game is incomplete, the game is a draw, player 1 has won, or player 2 has one, respectively. Here are some example inputs you can use to test your code:"
   ]
  },
  {
   "cell_type": "code",
   "execution_count": 93,
   "metadata": {},
   "outputs": [],
   "source": [
    "# Exercise 2 & 3: Draw the board.\n",
    "def draw_board(board):\n",
    "    \"\"\"\n",
    "    Draws the Tic Tac Toe board with column and row labels.\n",
    "    Uses a symbol mapping:\n",
    "        0 -> ' ' (empty)\n",
    "        1 -> 'X'\n",
    "        2 -> 'O'\n",
    "    \"\"\"\n",
    "    symbol_map = {0: ' ', 1: 'X', 2: 'O'}\n",
    "    n = len(board)\n",
    "    \n",
    "    # Print column labels\n",
    "    col_labels = \"    \" + \"   \".join(chr(ord('A') + i) for i in range(n))\n",
    "    print(col_labels)\n",
    "    \n",
    "    # Print the board rows with a top border\n",
    "    horizontal_line = \"   \" + \"----\" * n\n",
    "    for i, row in enumerate(board):\n",
    "        print(horizontal_line)\n",
    "        # Row label (1-indexed) and cell contents\n",
    "        row_str = f\" {i+1} \"  # row number label\n",
    "        for cell in row:\n",
    "            row_str += f\"| {symbol_map[cell]} \"\n",
    "        row_str += \"|\"\n",
    "        print(row_str)\n",
    "    print(horizontal_line)\n"
   ]
  },
  {
   "cell_type": "code",
   "execution_count": 94,
   "metadata": {},
   "outputs": [],
   "source": [
    "# Exercise 4: Check game state.\n",
    "def check_game_state(board):\n",
    "    \"\"\"\n",
    "    Checks the state of the Tic Tac Toe game.\n",
    "    Returns:\n",
    "        -1 : game is incomplete (at least one cell is empty)\n",
    "         0 : game is a draw (board is full and no winner)\n",
    "         1 : player 1 (X) wins\n",
    "         2 : player 2 (O) wins\n",
    "    \"\"\"\n",
    "    n = len(board)\n",
    "    \n",
    "    # Check rows\n",
    "    for i in range(n):\n",
    "        if board[i][0] != 0 and all(board[i][j] == board[i][0] for j in range(n)):\n",
    "            return board[i][0]\n",
    "    \n",
    "    # Check columns\n",
    "    for j in range(n):\n",
    "        if board[0][j] != 0 and all(board[i][j] == board[0][j] for i in range(n)):\n",
    "            return board[0][j]\n",
    "    \n",
    "    # Check main diagonal\n",
    "    if board[0][0] != 0 and all(board[i][i] == board[0][0] for i in range(n)):\n",
    "        return board[0][0]\n",
    "    \n",
    "    # Check anti-diagonal\n",
    "    if board[0][n-1] != 0 and all(board[i][n-1-i] == board[0][n-1] for i in range(n)):\n",
    "        return board[0][n-1]\n",
    "    \n",
    "    # Check for incomplete game (any cell is empty)\n",
    "    for row in board:\n",
    "        if 0 in row:\n",
    "            return -1  # Game incomplete\n",
    "    return 0  # Draw"
   ]
  },
  {
   "cell_type": "markdown",
   "metadata": {},
   "source": [
    "*Exercise 5:* Write a function that takes a game board, player number, and `(x,y)` coordinates and places \"X\" or \"O\" in the correct location of the game board. Make sure that you only allow filling previously empty locations. Return `True` or `False` to indicate successful placement of \"X\" or \"O\"."
   ]
  },
  {
   "cell_type": "code",
   "execution_count": 96,
   "metadata": {},
   "outputs": [],
   "source": [
    "# Exercise 5: Place a move on the board.\n",
    "def place_mark(board, player, x, y):\n",
    "    \"\"\"\n",
    "    Places a mark for the given player at (x,y) if the cell is empty.\n",
    "    Returns True if successful, False if the cell was already occupied.\n",
    "    \"\"\"\n",
    "    if board[x][y] == 0:\n",
    "        board[x][y] = player\n",
    "        return True\n",
    "    return False"
   ]
  },
  {
   "cell_type": "markdown",
   "metadata": {},
   "source": [
    "*Exercise 6:* Modify Exercise 3 to show column and row labels so that players can specify location using \"A2\" or \"C1\"."
   ]
  },
  {
   "cell_type": "code",
   "execution_count": 98,
   "metadata": {},
   "outputs": [],
   "source": [
    "# Exercise 6: Parse input (e.g., \"A2\") into board indices.\n",
    "def parse_position(pos):\n",
    "    \"\"\"\n",
    "    Converts a position string (e.g., \"A2\") into 0-indexed (row, column) coordinates.\n",
    "    Assumes:\n",
    "      - Column letter: 'A' -> 0, 'B' -> 1, etc.\n",
    "      - Row number is 1-indexed (e.g., \"2\" -> row index 1).\n",
    "    Returns (row, col) or (None, None) if the input is invalid.\n",
    "    \"\"\"\n",
    "    pos = pos.strip().upper()\n",
    "    if len(pos) < 2:\n",
    "        return None, None\n",
    "    col = ord(pos[0]) - ord('A')\n",
    "    try:\n",
    "        row = int(pos[1:]) - 1\n",
    "    except ValueError:\n",
    "        return None, None\n",
    "    return row, col"
   ]
  },
  {
   "cell_type": "code",
   "execution_count": 99,
   "metadata": {},
   "outputs": [],
   "source": [
    "# Test your solution here"
   ]
  },
  {
   "cell_type": "markdown",
   "metadata": {},
   "source": [
    "*Exercise 7:* Write a function that takes a board, player number, and location specified as in exercise 6 and then calls exercise 5 to correctly modify the board.  "
   ]
  },
  {
   "cell_type": "code",
   "execution_count": 101,
   "metadata": {},
   "outputs": [],
   "source": [
    "# Exercise 7: Make a move given a board, player, and position string.\n",
    "def move_from_input(board, player, pos):\n",
    "    \"\"\"\n",
    "    Parses the position string and places the player's mark on the board.\n",
    "    Returns True if the move is valid and placed; otherwise False.\n",
    "    \"\"\"\n",
    "    row, col = parse_position(pos)\n",
    "    if row is None or col is None:\n",
    "        return False\n",
    "    n = len(board)\n",
    "    if not (0 <= row < n and 0 <= col < n):\n",
    "        return False\n",
    "    return place_mark(board, player, row, col)\n"
   ]
  },
  {
   "cell_type": "markdown",
   "metadata": {},
   "source": [
    "*Exercise 8:* Write a function is called with a board and player number, takes input from the player using python's `input`, and modifies the board using your function from exercise 7. Note that you should keep asking for input until you have gotten a valid input that results in a valid move."
   ]
  },
  {
   "cell_type": "code",
   "execution_count": 103,
   "metadata": {},
   "outputs": [],
   "source": [
    "# Exercise 8: Repeatedly prompt the player for a valid move.\n",
    "def get_valid_move(board, player):\n",
    "    \"\"\"\n",
    "    Asks the given player for a move until a valid move is entered.\n",
    "    Updates the board with the move.\n",
    "    \"\"\"\n",
    "    while True:\n",
    "        pos = input(f\"Player {player} ({'X' if player == 1 else 'O'}), enter your move (e.g., A2): \")\n",
    "        row, col = parse_position(pos)\n",
    "        n = len(board)\n",
    "        if row is None or col is None or not (0 <= row < n and 0 <= col < n):\n",
    "            print(\"Invalid input format or out-of-range. Please try again.\")\n",
    "            continue\n",
    "        if place_mark(board, player, row, col):\n",
    "            return\n",
    "        else:\n",
    "            print(\"Cell already occupied. Please try again.\")"
   ]
  },
  {
   "cell_type": "markdown",
   "metadata": {},
   "source": [
    "*Exercise 9:* Use all of the previous exercises to implement a full tic-tac-toe game, where an appropriate board is drawn, 2 players are repeatedly asked for a location coordinates of where they wish to place a mark, and the game status is checked until a player wins or a draw occurs."
   ]
  },
  {
   "cell_type": "markdown",
   "metadata": {},
   "source": [
    "*Exercise 10:* Test that your game works for 5x5 Tic Tac Toe.  "
   ]
  },
  {
   "cell_type": "code",
   "execution_count": 106,
   "metadata": {},
   "outputs": [
    {
     "name": "stdin",
     "output_type": "stream",
     "text": [
      "Enter board size (n x n):  3\n"
     ]
    },
    {
     "name": "stdout",
     "output_type": "stream",
     "text": [
      "    A   B   C\n",
      "   ------------\n",
      " 1 |   |   |   |\n",
      "   ------------\n",
      " 2 |   |   |   |\n",
      "   ------------\n",
      " 3 |   |   |   |\n",
      "   ------------\n"
     ]
    },
    {
     "name": "stdin",
     "output_type": "stream",
     "text": [
      "Player 1 (X), enter your move (e.g., A2):  a1\n"
     ]
    },
    {
     "name": "stdout",
     "output_type": "stream",
     "text": [
      "    A   B   C\n",
      "   ------------\n",
      " 1 | X |   |   |\n",
      "   ------------\n",
      " 2 |   |   |   |\n",
      "   ------------\n",
      " 3 |   |   |   |\n",
      "   ------------\n"
     ]
    },
    {
     "name": "stdin",
     "output_type": "stream",
     "text": [
      "Player 2 (O), enter your move (e.g., A2):  a1\n"
     ]
    },
    {
     "name": "stdout",
     "output_type": "stream",
     "text": [
      "Cell already occupied. Please try again.\n"
     ]
    },
    {
     "name": "stdin",
     "output_type": "stream",
     "text": [
      "Player 2 (O), enter your move (e.g., A2):  a2\n"
     ]
    },
    {
     "name": "stdout",
     "output_type": "stream",
     "text": [
      "    A   B   C\n",
      "   ------------\n",
      " 1 | X |   |   |\n",
      "   ------------\n",
      " 2 | O |   |   |\n",
      "   ------------\n",
      " 3 |   |   |   |\n",
      "   ------------\n"
     ]
    },
    {
     "name": "stdin",
     "output_type": "stream",
     "text": [
      "Player 1 (X), enter your move (e.g., A2):  b1\n"
     ]
    },
    {
     "name": "stdout",
     "output_type": "stream",
     "text": [
      "    A   B   C\n",
      "   ------------\n",
      " 1 | X | X |   |\n",
      "   ------------\n",
      " 2 | O |   |   |\n",
      "   ------------\n",
      " 3 |   |   |   |\n",
      "   ------------\n"
     ]
    },
    {
     "name": "stdin",
     "output_type": "stream",
     "text": [
      "Player 2 (O), enter your move (e.g., A2):  b2\n"
     ]
    },
    {
     "name": "stdout",
     "output_type": "stream",
     "text": [
      "    A   B   C\n",
      "   ------------\n",
      " 1 | X | X |   |\n",
      "   ------------\n",
      " 2 | O | O |   |\n",
      "   ------------\n",
      " 3 |   |   |   |\n",
      "   ------------\n"
     ]
    },
    {
     "name": "stdin",
     "output_type": "stream",
     "text": [
      "Player 1 (X), enter your move (e.g., A2):  c1\n"
     ]
    },
    {
     "name": "stdout",
     "output_type": "stream",
     "text": [
      "    A   B   C\n",
      "   ------------\n",
      " 1 | X | X | X |\n",
      "   ------------\n",
      " 2 | O | O |   |\n",
      "   ------------\n",
      " 3 |   |   |   |\n",
      "   ------------\n",
      "Player 1 (X) wins!\n"
     ]
    }
   ],
   "source": [
    "# Exercise 9 & 10: Full game implementation.\n",
    "def play_game():\n",
    "    \"\"\"\n",
    "    Runs a full Tic Tac Toe game for an n x n board.\n",
    "    Two players take turns until a player wins or the game is a draw.\n",
    "    Works for any board size (e.g., try n=3 or n=5).\n",
    "    \"\"\"\n",
    "    try:\n",
    "        n = int(input(\"Enter board size (n x n): \"))\n",
    "    except ValueError:\n",
    "        print(\"Invalid input. Using board size 3.\")\n",
    "        n = 3\n",
    "\n",
    "    board = create_board(n)\n",
    "    current_player = 1  # Player 1 starts (X)\n",
    "    \n",
    "    while True:\n",
    "        draw_board(board)\n",
    "        get_valid_move(board, current_player)\n",
    "        state = check_game_state(board)\n",
    "        if state != -1:  # Game over\n",
    "            draw_board(board)\n",
    "            if state == 0:\n",
    "                print(\"The game is a draw!\")\n",
    "            else:\n",
    "                print(f\"Player {state} ({'X' if state == 1 else 'O'}) wins!\")\n",
    "            break\n",
    "        # Switch players\n",
    "        current_player = 2 if current_player == 1 else 1\n",
    "\n",
    "# Uncomment the following line to play the game:\n",
    "play_game()"
   ]
  },
  {
   "cell_type": "markdown",
   "metadata": {},
   "source": [
    "*Exercise 11:* (Advanced / Challenge) Develop a version of the game where one player is the computer. Note that you don't need to do an extensive seach for the best move. You can have the computer simply protect against loosing and otherwise try to win with straight or diagonal patterns."
   ]
  },
  {
   "cell_type": "code",
   "execution_count": 108,
   "metadata": {},
   "outputs": [],
   "source": [
    "# Write you solution here"
   ]
  },
  {
   "cell_type": "code",
   "execution_count": 109,
   "metadata": {},
   "outputs": [],
   "source": [
    "# Test your solution here"
   ]
  }
 ],
 "metadata": {
  "kernelspec": {
   "display_name": "Python 3 (ipykernel)",
   "language": "python",
   "name": "python3"
  },
  "language_info": {
   "codemirror_mode": {
    "name": "ipython",
    "version": 3
   },
   "file_extension": ".py",
   "mimetype": "text/x-python",
   "name": "python",
   "nbconvert_exporter": "python",
   "pygments_lexer": "ipython3",
   "version": "3.12.4"
  }
 },
 "nbformat": 4,
 "nbformat_minor": 4
}
